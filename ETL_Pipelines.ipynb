{
  "nbformat": 4,
  "nbformat_minor": 0,
  "metadata": {
    "colab": {
      "provenance": []
    },
    "kernelspec": {
      "name": "python3",
      "display_name": "Python 3"
    },
    "language_info": {
      "name": "python"
    }
  },
  "cells": [
    {
      "cell_type": "code",
      "source": [
        "# Databricks notebook source - Azure blob storage\n",
        "storage_account_name=\"team6regen\"\n",
        "storage_account_key=\"**** My Blob Storage Account key ****\"\n",
        "container=\"team6regeneration\"\n",
        "\n",
        "\n",
        "# Connect to Blob Storage (Data Lake)\n",
        "\n",
        "spark.conf.set(f\"fs.azure.account.key.{storage_account_name}.blob.core.windows.net\",storage_account_key)\n",
        "dbutils.fs.ls(f\"wasbs://{container}@{storage_account_name}.blob.core.windows.net\")\n",
        "\n",
        "# Project in an SQL cell\n",
        "\n",
        "%sql\n",
        "SELECT * FROM dimLogisticsPartners\n",
        "\n",
        "# dimProduct\n",
        "\n",
        "filePath = \"wasbs://\" + container + \"@\" + storage_account_name + \".blob.core.windows.net/DimProduct.csv\"\n",
        "df = spark.read.format(\"csv\").load(filePath, inferSchema = True, header = True)\n",
        "df.createOrReplaceTempView(\"Product\")\n",
        "df.write.format(\"parquet\").saveAsTable(\"dimProduct\")\n",
        "\n",
        "# Project in an SQL cell\n",
        "\n",
        "%sql\n",
        "SELECT * FROM dimProduct\n",
        "\n",
        "# dimProductionTeam\n",
        "\n",
        "filePath = \"wasbs://\" + container + \"@\" + storage_account_name + \".blob.core.windows.net/DimProductionTeam.csv\"\n",
        "df = spark.read.format(\"csv\").load(filePath, inferSchema = True, header = True)\n",
        "df.createOrReplaceTempView(\"ProductionTeam\")\n",
        "df.write.format(\"parquet\").saveAsTable(\"dimProductionTeam\")\n",
        "\n",
        "# Project in an SQL cell\n",
        "\n",
        "%sql\n",
        "SELECT * FROM dimProductionTeam\n",
        "\n",
        "# dimCustomer\n",
        "\n",
        "filePath = \"wasbs://\" + container + \"@\" + storage_account_name + \".blob.core.windows.net/dimCustomer.csv\"\n",
        "df = spark.read.format(\"csv\").load(filePath, inferSchema = True, header = True)\n",
        "df.createOrReplaceTempView(\"Customer\")\n",
        "df.write.format(\"parquet\").saveAsTable(\"dimCustomer\")\n",
        "\n",
        "# Project in an SQL cell\n",
        "\n",
        "%sql\n",
        "SELECT * FROM dimCustomer\n",
        "\n",
        "# dimDate\n",
        "\n",
        "filePath = \"wasbs://\" + container + \"@\" + storage_account_name + \".blob.core.windows.net/dimDate.csv\"\n",
        "df = spark.read.option(\"encoding\", \"Windows-1253\").format(\"csv\").load(filePath, inferSchema = True, header = True)\n",
        "df.createOrReplaceTempView(\"Date\")\n",
        "df.write.format(\"parquet\").saveAsTable(\"dimDate\")\n",
        "\n",
        "# Project in an SQL cell\n",
        "\n",
        "%sql\n",
        "SELECT * FROM dimDate\n",
        "\n",
        "# FactSales\n",
        "\n",
        "filePath = \"wasbs://\" + container + \"@\" + storage_account_name + \".blob.core.windows.net/FactSales.csv\"\n",
        "df = spark.read.format(\"csv\").load(filePath, inferSchema = True, header = True)\n",
        "df.createOrReplaceTempView(\"Sales\")\n",
        "df.write.format(\"parquet\").saveAsTable(\"FactSales\")\n",
        "\n",
        "# Project in an SQL cell\n",
        "\n",
        "%sql\n",
        "SELECT * FROM FactSales\n",
        "\n",
        "# FactProduction\n",
        "\n",
        "filePath = \"wasbs://\" + container + \"@\" + storage_account_name + \".blob.core.windows.net/FactProduction.csv\"\n",
        "df = spark.read.format(\"csv\").load(filePath, inferSchema = True, header = True)\n",
        "df.createOrReplaceTempView(\"Production\")\n",
        "df.write.format(\"parquet\").saveAsTable(\"FactProduction\")\n",
        "\n",
        "# Project in an SQL cell\n",
        "\n",
        "%sql\n",
        "SELECT * FROM FactProduction"
      ],
      "metadata": {
        "id": "CPhK5xX7wbNz"
      },
      "execution_count": null,
      "outputs": []
    },
    {
      "cell_type": "code",
      "source": [],
      "metadata": {
        "id": "qnF0pixqwbQo"
      },
      "execution_count": null,
      "outputs": []
    },
    {
      "cell_type": "code",
      "source": [],
      "metadata": {
        "id": "bk_q7fIJwbTp"
      },
      "execution_count": null,
      "outputs": []
    },
    {
      "cell_type": "code",
      "source": [],
      "metadata": {
        "id": "ltQ5PXrVwbWW"
      },
      "execution_count": null,
      "outputs": []
    },
    {
      "cell_type": "code",
      "source": [],
      "metadata": {
        "id": "49ByNr9ZwbZJ"
      },
      "execution_count": null,
      "outputs": []
    },
    {
      "cell_type": "code",
      "source": [],
      "metadata": {
        "id": "nzEw9hmAwbb-"
      },
      "execution_count": null,
      "outputs": []
    },
    {
      "cell_type": "code",
      "source": [],
      "metadata": {
        "id": "LxaHl39Nwbex"
      },
      "execution_count": null,
      "outputs": []
    }
  ]
}